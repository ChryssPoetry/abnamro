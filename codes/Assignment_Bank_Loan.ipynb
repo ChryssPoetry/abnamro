{
 "cells": [
  {
   "cell_type": "markdown",
   "id": "b773c631",
   "metadata": {},
   "source": [
    "# Import Liabraries"
   ]
  },
  {
   "cell_type": "code",
   "execution_count": 76,
   "id": "e0e903d4",
   "metadata": {},
   "outputs": [],
   "source": [
    "import pandas as pd\n",
    "import numpy as np\n",
    "import matplotlib.pyplot as plt\n",
    "import seaborn as sns"
   ]
  },
  {
   "cell_type": "markdown",
   "id": "b59bdb61",
   "metadata": {},
   "source": [
    "# Acquiring Dataset"
   ]
  },
  {
   "cell_type": "code",
   "execution_count": 77,
   "id": "abe3f9f6",
   "metadata": {},
   "outputs": [],
   "source": [
    "data_customers=pd.read_csv('customers (1).csv')\n",
    "data_creditApplication=pd.read_csv('credit_applications (1).csv')"
   ]
  },
  {
   "cell_type": "markdown",
   "id": "adfc1b6a",
   "metadata": {},
   "source": [
    "the below code is just merge both of the datasets"
   ]
  },
  {
   "cell_type": "code",
   "execution_count": 78,
   "id": "4dfa71a4",
   "metadata": {},
   "outputs": [
    {
     "data": {
      "text/html": [
       "<div>\n",
       "<style scoped>\n",
       "    .dataframe tbody tr th:only-of-type {\n",
       "        vertical-align: middle;\n",
       "    }\n",
       "\n",
       "    .dataframe tbody tr th {\n",
       "        vertical-align: top;\n",
       "    }\n",
       "\n",
       "    .dataframe thead th {\n",
       "        text-align: right;\n",
       "    }\n",
       "</style>\n",
       "<table border=\"1\" class=\"dataframe\">\n",
       "  <thead>\n",
       "    <tr style=\"text-align: right;\">\n",
       "      <th></th>\n",
       "      <th>Unnamed: 0_x</th>\n",
       "      <th>client_nr</th>\n",
       "      <th>yearmonth_x</th>\n",
       "      <th>total_nr_trx</th>\n",
       "      <th>nr_debit_trx</th>\n",
       "      <th>volume_debit_trx</th>\n",
       "      <th>nr_credit_trx</th>\n",
       "      <th>volume_credit_trx</th>\n",
       "      <th>min_balance</th>\n",
       "      <th>max_balance</th>\n",
       "      <th>CRG</th>\n",
       "      <th>Unnamed: 0_y</th>\n",
       "      <th>yearmonth_y</th>\n",
       "      <th>credit_application</th>\n",
       "      <th>nr_credit_applications</th>\n",
       "    </tr>\n",
       "  </thead>\n",
       "  <tbody>\n",
       "    <tr>\n",
       "      <th>0</th>\n",
       "      <td>1</td>\n",
       "      <td>1</td>\n",
       "      <td>201401</td>\n",
       "      <td>97</td>\n",
       "      <td>50</td>\n",
       "      <td>6527929</td>\n",
       "      <td>47</td>\n",
       "      <td>7454863</td>\n",
       "      <td>-7914288</td>\n",
       "      <td>25110651</td>\n",
       "      <td>1.0</td>\n",
       "      <td>1</td>\n",
       "      <td>201401</td>\n",
       "      <td>0</td>\n",
       "      <td>0</td>\n",
       "    </tr>\n",
       "    <tr>\n",
       "      <th>1</th>\n",
       "      <td>1</td>\n",
       "      <td>1</td>\n",
       "      <td>201401</td>\n",
       "      <td>97</td>\n",
       "      <td>50</td>\n",
       "      <td>6527929</td>\n",
       "      <td>47</td>\n",
       "      <td>7454863</td>\n",
       "      <td>-7914288</td>\n",
       "      <td>25110651</td>\n",
       "      <td>1.0</td>\n",
       "      <td>2</td>\n",
       "      <td>201402</td>\n",
       "      <td>0</td>\n",
       "      <td>0</td>\n",
       "    </tr>\n",
       "    <tr>\n",
       "      <th>2</th>\n",
       "      <td>1</td>\n",
       "      <td>1</td>\n",
       "      <td>201401</td>\n",
       "      <td>97</td>\n",
       "      <td>50</td>\n",
       "      <td>6527929</td>\n",
       "      <td>47</td>\n",
       "      <td>7454863</td>\n",
       "      <td>-7914288</td>\n",
       "      <td>25110651</td>\n",
       "      <td>1.0</td>\n",
       "      <td>3</td>\n",
       "      <td>201403</td>\n",
       "      <td>0</td>\n",
       "      <td>0</td>\n",
       "    </tr>\n",
       "    <tr>\n",
       "      <th>3</th>\n",
       "      <td>1</td>\n",
       "      <td>1</td>\n",
       "      <td>201401</td>\n",
       "      <td>97</td>\n",
       "      <td>50</td>\n",
       "      <td>6527929</td>\n",
       "      <td>47</td>\n",
       "      <td>7454863</td>\n",
       "      <td>-7914288</td>\n",
       "      <td>25110651</td>\n",
       "      <td>1.0</td>\n",
       "      <td>4</td>\n",
       "      <td>201404</td>\n",
       "      <td>0</td>\n",
       "      <td>0</td>\n",
       "    </tr>\n",
       "    <tr>\n",
       "      <th>4</th>\n",
       "      <td>1</td>\n",
       "      <td>1</td>\n",
       "      <td>201401</td>\n",
       "      <td>97</td>\n",
       "      <td>50</td>\n",
       "      <td>6527929</td>\n",
       "      <td>47</td>\n",
       "      <td>7454863</td>\n",
       "      <td>-7914288</td>\n",
       "      <td>25110651</td>\n",
       "      <td>1.0</td>\n",
       "      <td>5</td>\n",
       "      <td>201405</td>\n",
       "      <td>0</td>\n",
       "      <td>0</td>\n",
       "    </tr>\n",
       "  </tbody>\n",
       "</table>\n",
       "</div>"
      ],
      "text/plain": [
       "   Unnamed: 0_x  client_nr  yearmonth_x  total_nr_trx  nr_debit_trx  \\\n",
       "0             1          1       201401            97            50   \n",
       "1             1          1       201401            97            50   \n",
       "2             1          1       201401            97            50   \n",
       "3             1          1       201401            97            50   \n",
       "4             1          1       201401            97            50   \n",
       "\n",
       "   volume_debit_trx  nr_credit_trx  volume_credit_trx  min_balance  \\\n",
       "0           6527929             47            7454863     -7914288   \n",
       "1           6527929             47            7454863     -7914288   \n",
       "2           6527929             47            7454863     -7914288   \n",
       "3           6527929             47            7454863     -7914288   \n",
       "4           6527929             47            7454863     -7914288   \n",
       "\n",
       "   max_balance  CRG  Unnamed: 0_y  yearmonth_y  credit_application  \\\n",
       "0     25110651  1.0             1       201401                   0   \n",
       "1     25110651  1.0             2       201402                   0   \n",
       "2     25110651  1.0             3       201403                   0   \n",
       "3     25110651  1.0             4       201404                   0   \n",
       "4     25110651  1.0             5       201405                   0   \n",
       "\n",
       "   nr_credit_applications  \n",
       "0                       0  \n",
       "1                       0  \n",
       "2                       0  \n",
       "3                       0  \n",
       "4                       0  "
      ]
     },
     "execution_count": 78,
     "metadata": {},
     "output_type": "execute_result"
    }
   ],
   "source": [
    "merged_loan_record = pd.merge(data_customers, data_creditApplication, on=['client_nr'], how='left')\n",
    "\n",
    "merged_loan_record.head()"
   ]
  },
  {
   "cell_type": "markdown",
   "id": "2c9d833c",
   "metadata": {},
   "source": [
    "in below cell we are checking how many number of rows and columns in dataset"
   ]
  },
  {
   "cell_type": "code",
   "execution_count": 79,
   "id": "c4a72492",
   "metadata": {},
   "outputs": [
    {
     "data": {
      "text/plain": [
       "(939692, 15)"
      ]
     },
     "execution_count": 79,
     "metadata": {},
     "output_type": "execute_result"
    }
   ],
   "source": [
    "merged_loan_record.shape"
   ]
  },
  {
   "cell_type": "markdown",
   "id": "b34a7b12",
   "metadata": {},
   "source": [
    "in below cell we are checking about each attribute datatype"
   ]
  },
  {
   "cell_type": "code",
   "execution_count": 80,
   "id": "f47a3011",
   "metadata": {},
   "outputs": [
    {
     "name": "stdout",
     "output_type": "stream",
     "text": [
      "<class 'pandas.core.frame.DataFrame'>\n",
      "Int64Index: 939692 entries, 0 to 939691\n",
      "Data columns (total 15 columns):\n",
      " #   Column                  Non-Null Count   Dtype  \n",
      "---  ------                  --------------   -----  \n",
      " 0   Unnamed: 0_x            939692 non-null  int64  \n",
      " 1   client_nr               939692 non-null  int64  \n",
      " 2   yearmonth_x             939692 non-null  int64  \n",
      " 3   total_nr_trx            939692 non-null  int64  \n",
      " 4   nr_debit_trx            939692 non-null  int64  \n",
      " 5   volume_debit_trx        939692 non-null  int64  \n",
      " 6   nr_credit_trx           939692 non-null  int64  \n",
      " 7   volume_credit_trx       939692 non-null  int64  \n",
      " 8   min_balance             939692 non-null  int64  \n",
      " 9   max_balance             939692 non-null  int64  \n",
      " 10  CRG                     768517 non-null  float64\n",
      " 11  Unnamed: 0_y            939692 non-null  int64  \n",
      " 12  yearmonth_y             939692 non-null  int64  \n",
      " 13  credit_application      939692 non-null  int64  \n",
      " 14  nr_credit_applications  939692 non-null  int64  \n",
      "dtypes: float64(1), int64(14)\n",
      "memory usage: 114.7 MB\n"
     ]
    }
   ],
   "source": [
    "merged_loan_record.info()"
   ]
  },
  {
   "cell_type": "markdown",
   "id": "37ff4188",
   "metadata": {},
   "source": [
    "plot the correlation map"
   ]
  },
  {
   "cell_type": "code",
   "execution_count": 81,
   "id": "8a6f52d9",
   "metadata": {},
   "outputs": [
    {
     "data": {
      "image/png": "[encoded data removed]",
      "text/plain": [
       "<Figure size 1080x504 with 2 Axes>"
      ]
     },
     "metadata": {
      "needs_background": "light"
     },
     "output_type": "display_data"
    }
   ],
   "source": [
    "plt.figure(figsize=[15,7])\n",
    "sns.heatmap(merged_loan_record.corr(),annot=True)\n",
    "plt.show()"
   ]
  },
  {
   "cell_type": "markdown",
   "id": "f9d0bba8",
   "metadata": {},
   "source": [
    "## Q1)"
   ]
  },
  {
   "cell_type": "markdown",
   "id": "4d5a37e3",
   "metadata": {},
   "source": [
    "A positive corelation between both the variables is  number of credit transaction, total number of transaction present number. Similarly total number of transaction have greater impact on number of credit transactions. moreover, volume of debit transaction and volume credit transaction. which reports that higher number of credit volume higher will be the credit transaction. Number of Credit applications have significant relationship with number of credit application.\n"
   ]
  },
  {
   "cell_type": "markdown",
   "id": "6afadf05",
   "metadata": {},
   "source": []
  },
  {
   "cell_type": "markdown",
   "id": "091338de",
   "metadata": {},
   "source": []
  },
  {
   "cell_type": "markdown",
   "id": "cb585680",
   "metadata": {},
   "source": [
    "## Q2)"
   ]
  },
  {
   "cell_type": "markdown",
   "id": "ec92399c",
   "metadata": {},
   "source": [
    "Here we get the only the clients with loan application and find the average and median for that clients.\n",
    "by doing describe().transpose() we get mean and average"
   ]
  },
  {
   "cell_type": "code",
   "execution_count": 82,
   "id": "7e49fdbb",
   "metadata": {},
   "outputs": [
    {
     "data": {
      "text/html": [
       "<div>\n",
       "<style scoped>\n",
       "    .dataframe tbody tr th:only-of-type {\n",
       "        vertical-align: middle;\n",
       "    }\n",
       "\n",
       "    .dataframe tbody tr th {\n",
       "        vertical-align: top;\n",
       "    }\n",
       "\n",
       "    .dataframe thead th {\n",
       "        text-align: right;\n",
       "    }\n",
       "</style>\n",
       "<table border=\"1\" class=\"dataframe\">\n",
       "  <thead>\n",
       "    <tr style=\"text-align: right;\">\n",
       "      <th></th>\n",
       "      <th>mean</th>\n",
       "      <th>50%</th>\n",
       "    </tr>\n",
       "  </thead>\n",
       "  <tbody>\n",
       "    <tr>\n",
       "      <th>Unnamed: 0_x</th>\n",
       "      <td>1.521077e+04</td>\n",
       "      <td>15971.0</td>\n",
       "    </tr>\n",
       "    <tr>\n",
       "      <th>client_nr</th>\n",
       "      <td>4.870036e+02</td>\n",
       "      <td>512.0</td>\n",
       "    </tr>\n",
       "    <tr>\n",
       "      <th>yearmonth_x</th>\n",
       "      <td>2.014898e+05</td>\n",
       "      <td>201504.0</td>\n",
       "    </tr>\n",
       "    <tr>\n",
       "      <th>total_nr_trx</th>\n",
       "      <td>1.247315e+02</td>\n",
       "      <td>109.0</td>\n",
       "    </tr>\n",
       "    <tr>\n",
       "      <th>nr_debit_trx</th>\n",
       "      <td>6.627346e+01</td>\n",
       "      <td>59.0</td>\n",
       "    </tr>\n",
       "    <tr>\n",
       "      <th>volume_debit_trx</th>\n",
       "      <td>6.290153e+06</td>\n",
       "      <td>4720706.0</td>\n",
       "    </tr>\n",
       "    <tr>\n",
       "      <th>nr_credit_trx</th>\n",
       "      <td>5.845806e+01</td>\n",
       "      <td>47.0</td>\n",
       "    </tr>\n",
       "    <tr>\n",
       "      <th>volume_credit_trx</th>\n",
       "      <td>6.334748e+06</td>\n",
       "      <td>4762464.0</td>\n",
       "    </tr>\n",
       "    <tr>\n",
       "      <th>min_balance</th>\n",
       "      <td>-9.710203e+06</td>\n",
       "      <td>-7305665.0</td>\n",
       "    </tr>\n",
       "    <tr>\n",
       "      <th>max_balance</th>\n",
       "      <td>-6.477774e+06</td>\n",
       "      <td>-4356809.0</td>\n",
       "    </tr>\n",
       "    <tr>\n",
       "      <th>CRG</th>\n",
       "      <td>4.542546e+00</td>\n",
       "      <td>4.0</td>\n",
       "    </tr>\n",
       "    <tr>\n",
       "      <th>Unnamed: 0_y</th>\n",
       "      <td>1.521079e+04</td>\n",
       "      <td>15975.0</td>\n",
       "    </tr>\n",
       "    <tr>\n",
       "      <th>yearmonth_y</th>\n",
       "      <td>2.014888e+05</td>\n",
       "      <td>201504.0</td>\n",
       "    </tr>\n",
       "    <tr>\n",
       "      <th>credit_application</th>\n",
       "      <td>1.000000e+00</td>\n",
       "      <td>1.0</td>\n",
       "    </tr>\n",
       "    <tr>\n",
       "      <th>nr_credit_applications</th>\n",
       "      <td>1.227034e+00</td>\n",
       "      <td>1.0</td>\n",
       "    </tr>\n",
       "  </tbody>\n",
       "</table>\n",
       "</div>"
      ],
      "text/plain": [
       "                                mean        50%\n",
       "Unnamed: 0_x            1.521077e+04    15971.0\n",
       "client_nr               4.870036e+02      512.0\n",
       "yearmonth_x             2.014898e+05   201504.0\n",
       "total_nr_trx            1.247315e+02      109.0\n",
       "nr_debit_trx            6.627346e+01       59.0\n",
       "volume_debit_trx        6.290153e+06  4720706.0\n",
       "nr_credit_trx           5.845806e+01       47.0\n",
       "volume_credit_trx       6.334748e+06  4762464.0\n",
       "min_balance            -9.710203e+06 -7305665.0\n",
       "max_balance            -6.477774e+06 -4356809.0\n",
       "CRG                     4.542546e+00        4.0\n",
       "Unnamed: 0_y            1.521079e+04    15975.0\n",
       "yearmonth_y             2.014888e+05   201504.0\n",
       "credit_application      1.000000e+00        1.0\n",
       "nr_credit_applications  1.227034e+00        1.0"
      ]
     },
     "execution_count": 82,
     "metadata": {},
     "output_type": "execute_result"
    }
   ],
   "source": [
    "d=merged_loan_record[merged_loan_record['credit_application']==1]\n",
    "d[(d['min_balance']<1) & (d['max_balance']<1)].describe().transpose()[['mean','50%']]"
   ]
  },
  {
   "cell_type": "code",
   "execution_count": 83,
   "id": "fd744305",
   "metadata": {},
   "outputs": [
    {
     "data": {
      "text/html": [
       "<div>\n",
       "<style scoped>\n",
       "    .dataframe tbody tr th:only-of-type {\n",
       "        vertical-align: middle;\n",
       "    }\n",
       "\n",
       "    .dataframe tbody tr th {\n",
       "        vertical-align: top;\n",
       "    }\n",
       "\n",
       "    .dataframe thead th {\n",
       "        text-align: right;\n",
       "    }\n",
       "</style>\n",
       "<table border=\"1\" class=\"dataframe\">\n",
       "  <thead>\n",
       "    <tr style=\"text-align: right;\">\n",
       "      <th></th>\n",
       "      <th>mean</th>\n",
       "      <th>50%</th>\n",
       "    </tr>\n",
       "  </thead>\n",
       "  <tbody>\n",
       "    <tr>\n",
       "      <th>Unnamed: 0_x</th>\n",
       "      <td>1.579042e+04</td>\n",
       "      <td>16842.0</td>\n",
       "    </tr>\n",
       "    <tr>\n",
       "      <th>client_nr</th>\n",
       "      <td>5.073183e+02</td>\n",
       "      <td>540.0</td>\n",
       "    </tr>\n",
       "    <tr>\n",
       "      <th>yearmonth_x</th>\n",
       "      <td>2.015045e+05</td>\n",
       "      <td>201507.0</td>\n",
       "    </tr>\n",
       "    <tr>\n",
       "      <th>total_nr_trx</th>\n",
       "      <td>1.455071e+02</td>\n",
       "      <td>119.0</td>\n",
       "    </tr>\n",
       "    <tr>\n",
       "      <th>nr_debit_trx</th>\n",
       "      <td>7.363150e+01</td>\n",
       "      <td>65.0</td>\n",
       "    </tr>\n",
       "    <tr>\n",
       "      <th>volume_debit_trx</th>\n",
       "      <td>1.015631e+07</td>\n",
       "      <td>7029553.5</td>\n",
       "    </tr>\n",
       "    <tr>\n",
       "      <th>nr_credit_trx</th>\n",
       "      <td>7.187560e+01</td>\n",
       "      <td>47.0</td>\n",
       "    </tr>\n",
       "    <tr>\n",
       "      <th>volume_credit_trx</th>\n",
       "      <td>1.025069e+07</td>\n",
       "      <td>7073078.0</td>\n",
       "    </tr>\n",
       "    <tr>\n",
       "      <th>min_balance</th>\n",
       "      <td>1.524821e+06</td>\n",
       "      <td>252885.0</td>\n",
       "    </tr>\n",
       "    <tr>\n",
       "      <th>max_balance</th>\n",
       "      <td>8.467257e+06</td>\n",
       "      <td>5167909.0</td>\n",
       "    </tr>\n",
       "    <tr>\n",
       "      <th>CRG</th>\n",
       "      <td>2.455037e+00</td>\n",
       "      <td>2.0</td>\n",
       "    </tr>\n",
       "    <tr>\n",
       "      <th>Unnamed: 0_y</th>\n",
       "      <td>1.578858e+04</td>\n",
       "      <td>16839.0</td>\n",
       "    </tr>\n",
       "    <tr>\n",
       "      <th>yearmonth_y</th>\n",
       "      <td>2.014883e+05</td>\n",
       "      <td>201504.0</td>\n",
       "    </tr>\n",
       "    <tr>\n",
       "      <th>credit_application</th>\n",
       "      <td>1.000000e+00</td>\n",
       "      <td>1.0</td>\n",
       "    </tr>\n",
       "    <tr>\n",
       "      <th>nr_credit_applications</th>\n",
       "      <td>1.341600e+00</td>\n",
       "      <td>1.0</td>\n",
       "    </tr>\n",
       "  </tbody>\n",
       "</table>\n",
       "</div>"
      ],
      "text/plain": [
       "                                mean        50%\n",
       "Unnamed: 0_x            1.579042e+04    16842.0\n",
       "client_nr               5.073183e+02      540.0\n",
       "yearmonth_x             2.015045e+05   201507.0\n",
       "total_nr_trx            1.455071e+02      119.0\n",
       "nr_debit_trx            7.363150e+01       65.0\n",
       "volume_debit_trx        1.015631e+07  7029553.5\n",
       "nr_credit_trx           7.187560e+01       47.0\n",
       "volume_credit_trx       1.025069e+07  7073078.0\n",
       "min_balance             1.524821e+06   252885.0\n",
       "max_balance             8.467257e+06  5167909.0\n",
       "CRG                     2.455037e+00        2.0\n",
       "Unnamed: 0_y            1.578858e+04    16839.0\n",
       "yearmonth_y             2.014883e+05   201504.0\n",
       "credit_application      1.000000e+00        1.0\n",
       "nr_credit_applications  1.341600e+00        1.0"
      ]
     },
     "execution_count": 83,
     "metadata": {},
     "output_type": "execute_result"
    }
   ],
   "source": [
    "d[(d['min_balance']>0) & (d['max_balance']>0)].describe().transpose()[['mean','50%']]"
   ]
  },
  {
   "cell_type": "markdown",
   "id": "50fd2ad5",
   "metadata": {},
   "source": [
    "here im just getting the balance which is less than 0 because we want 1% interest rate for flexible balance"
   ]
  },
  {
   "cell_type": "code",
   "execution_count": 84,
   "id": "304c99a7",
   "metadata": {},
   "outputs": [],
   "source": [
    "flexible_balance=(merged_loan_record[(merged_loan_record['min_balance']<0) & (merged_loan_record['max_balance']<0)])\n"
   ]
  },
  {
   "cell_type": "markdown",
   "id": "c0f95848",
   "metadata": {},
   "source": [
    "in the below cell we are getting the average for flexible accounts"
   ]
  },
  {
   "cell_type": "code",
   "execution_count": 85,
   "id": "f2a2a29d",
   "metadata": {},
   "outputs": [
    {
     "name": "stderr",
     "output_type": "stream",
     "text": [
      "C:\\Users\\farha\\AppData\\Local\\Temp/ipykernel_26144/2967484511.py:1: SettingWithCopyWarning: \n",
      "A value is trying to be set on a copy of a slice from a DataFrame.\n",
      "Try using .loc[row_indexer,col_indexer] = value instead\n",
      "\n",
      "See the caveats in the documentation: https://pandas.pydata.org/pandas-docs/stable/user_guide/indexing.html#returning-a-view-versus-a-copy\n",
      "  flexible_balance['Per_Month_Revenue_Min_Balance']=np.mean(flexible_balance[(flexible_balance['min_balance']<0) & (flexible_balance['max_balance']<0)]['min_balance'].mean())\n"
     ]
    }
   ],
   "source": [
    "flexible_balance['Per_Month_Revenue_Min_Balance']=np.mean(flexible_balance[(flexible_balance['min_balance']<0) & (flexible_balance['max_balance']<0)]['min_balance'].mean())"
   ]
  },
  {
   "cell_type": "markdown",
   "id": "2f5dc838",
   "metadata": {},
   "source": [
    "## Q3"
   ]
  },
  {
   "cell_type": "markdown",
   "id": "6432bdee",
   "metadata": {},
   "source": [
    "then at last multiple 30 of average value of interest because we want for each month that's why i multiplied by 30 to get month revenue."
   ]
  },
  {
   "cell_type": "code",
   "execution_count": 86,
   "id": "75d9c7cb",
   "metadata": {},
   "outputs": [
    {
     "name": "stdout",
     "output_type": "stream",
     "text": [
      "Revenues Per Month For Min_balance\n",
      "\n"
     ]
    },
    {
     "data": {
      "text/plain": [
       "yearmonth_x\n",
       "201401   -2.578358e+12\n",
       "201402   -3.000782e+12\n",
       "201403   -3.037576e+12\n",
       "201404   -2.810635e+12\n",
       "201405   -3.016230e+12\n",
       "201406   -2.793502e+12\n",
       "201407   -2.550552e+12\n",
       "201408   -2.824398e+12\n",
       "201409   -2.773842e+12\n",
       "201410   -2.706434e+12\n",
       "201411   -2.976628e+12\n",
       "201412   -2.669640e+12\n",
       "201501   -2.491570e+12\n",
       "201502   -2.829172e+12\n",
       "201503   -2.768505e+12\n",
       "201504   -2.581448e+12\n",
       "201505   -2.721320e+12\n",
       "201506   -2.593244e+12\n",
       "201507   -2.353665e+12\n",
       "201508   -2.597738e+12\n",
       "201509   -2.619646e+12\n",
       "201510   -2.540722e+12\n",
       "201511   -2.614590e+12\n",
       "201512   -2.545778e+12\n",
       "201601   -2.403378e+12\n",
       "201602   -2.613748e+12\n",
       "201603   -2.539318e+12\n",
       "201604   -2.432307e+12\n",
       "201605   -2.536509e+12\n",
       "201606   -2.331757e+12\n",
       "201607   -2.255361e+12\n",
       "201608   -2.337936e+12\n",
       "Name: Per_Month_Revenue_Min_Balance, dtype: float64"
      ]
     },
     "execution_count": 86,
     "metadata": {},
     "output_type": "execute_result"
    }
   ],
   "source": [
    "print('Revenues Per Month For Min_balance\\n')\n",
    "\n",
    "flexible_balance.groupby('yearmonth_x').sum()['Per_Month_Revenue_Min_Balance']*30"
   ]
  },
  {
   "cell_type": "code",
   "execution_count": 87,
   "id": "310c8d02",
   "metadata": {},
   "outputs": [
    {
     "name": "stderr",
     "output_type": "stream",
     "text": [
      "C:\\Users\\farha\\AppData\\Local\\Temp/ipykernel_26144/419080423.py:1: SettingWithCopyWarning: \n",
      "A value is trying to be set on a copy of a slice from a DataFrame.\n",
      "Try using .loc[row_indexer,col_indexer] = value instead\n",
      "\n",
      "See the caveats in the documentation: https://pandas.pydata.org/pandas-docs/stable/user_guide/indexing.html#returning-a-view-versus-a-copy\n",
      "  flexible_balance['Per_Month_Revenue_Max_Balance']=np.mean(flexible_balance[(flexible_balance['min_balance']<0) & (flexible_balance['max_balance']<0)]['max_balance'].mean())\n"
     ]
    }
   ],
   "source": [
    "flexible_balance['Per_Month_Revenue_Max_Balance']=np.mean(flexible_balance[(flexible_balance['min_balance']<0) & (flexible_balance['max_balance']<0)]['max_balance'].mean())"
   ]
  },
  {
   "cell_type": "code",
   "execution_count": 88,
   "id": "7d620854",
   "metadata": {},
   "outputs": [
    {
     "name": "stdout",
     "output_type": "stream",
     "text": [
      "Revenues Per Month for max_balance\n",
      "\n"
     ]
    },
    {
     "data": {
      "text/plain": [
       "yearmonth_x\n",
       "201401   -1.798938e+12\n",
       "201402   -2.093666e+12\n",
       "201403   -2.119337e+12\n",
       "201404   -1.960999e+12\n",
       "201405   -2.104444e+12\n",
       "201406   -1.949046e+12\n",
       "201407   -1.779538e+12\n",
       "201408   -1.970602e+12\n",
       "201409   -1.935328e+12\n",
       "201410   -1.888297e+12\n",
       "201411   -2.076813e+12\n",
       "201412   -1.862626e+12\n",
       "201501   -1.738386e+12\n",
       "201502   -1.973933e+12\n",
       "201503   -1.931605e+12\n",
       "201504   -1.801094e+12\n",
       "201505   -1.898683e+12\n",
       "201506   -1.809324e+12\n",
       "201507   -1.642168e+12\n",
       "201508   -1.812460e+12\n",
       "201509   -1.827745e+12\n",
       "201510   -1.772679e+12\n",
       "201511   -1.824217e+12\n",
       "201512   -1.776206e+12\n",
       "201601   -1.676853e+12\n",
       "201602   -1.823629e+12\n",
       "201603   -1.771699e+12\n",
       "201604   -1.697038e+12\n",
       "201605   -1.769740e+12\n",
       "201606   -1.626883e+12\n",
       "201607   -1.573581e+12\n",
       "201608   -1.631194e+12\n",
       "Name: Per_Month_Revenue_Max_Balance, dtype: float64"
      ]
     },
     "execution_count": 88,
     "metadata": {},
     "output_type": "execute_result"
    }
   ],
   "source": [
    "print('Revenues Per Month for max_balance\\n')\n",
    "\n",
    "flexible_balance.groupby('yearmonth_x').sum()['Per_Month_Revenue_Max_Balance']*30"
   ]
  },
  {
   "cell_type": "markdown",
   "id": "dabaa7bb",
   "metadata": {},
   "source": [
    "## Q4"
   ]
  },
  {
   "cell_type": "markdown",
   "id": "8e39724e",
   "metadata": {},
   "source": [
    "Hypothesis 1: There is likely to be a positive corelation between total number of transactions and total credit transaction.\n",
    "\n",
    "Hypothesis 2: There is likely to be a positive corelation between volume of debit transaction and volume of credit transaction. \n",
    "\n",
    "And these variables i would need for testing"
   ]
  },
  {
   "cell_type": "code",
   "execution_count": null,
   "id": "da3b1ffc",
   "metadata": {},
   "outputs": [],
   "source": []
  },
  {
   "cell_type": "markdown",
   "id": "498764f2",
   "metadata": {},
   "source": [
    "the below graph is just to plot the no of loan applications in all months"
   ]
  },
  {
   "cell_type": "code",
   "execution_count": 89,
   "id": "a4a0fbe0",
   "metadata": {},
   "outputs": [
    {
     "data": {
      "image/png": "[encoded data removed]",
      "text/plain": [
       "<Figure size 720x360 with 1 Axes>"
      ]
     },
     "metadata": {
      "needs_background": "light"
     },
     "output_type": "display_data"
    }
   ],
   "source": [
    "plt.figure(figsize=[10,5])\n",
    "merged_loan_record.groupby('yearmonth_y').sum()['credit_application'].plot(kind='bar',edgecolor='black')\n",
    "plt.title('No of loan applications in this period')\n",
    "plt.ylabel('count')\n",
    "plt.show()"
   ]
  },
  {
   "cell_type": "markdown",
   "id": "3a6c6599",
   "metadata": {},
   "source": [
    "from the above graph we can see that in year 2015 and in 6 month we have got high number of loan applications."
   ]
  }
 ],
 "metadata": {
  "kernelspec": {
   "display_name": "Python 3 (ipykernel)",
   "language": "python",
   "name": "python3"
  },
  "language_info": {
   "codemirror_mode": {
    "name": "ipython",
    "version": 3
   },
   "file_extension": ".py",
   "mimetype": "text/x-python",
   "name": "python",
   "nbconvert_exporter": "python",
   "pygments_lexer": "ipython3",
   "version": "3.9.7"
  }
 },
 "nbformat": 4,
 "nbformat_minor": 5
}
